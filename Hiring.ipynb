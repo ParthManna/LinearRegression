{
 "cells": [
  {
   "cell_type": "code",
   "execution_count": 8,
   "id": "694455b4-feac-4b50-a680-9006b8d006ae",
   "metadata": {},
   "outputs": [
    {
     "ename": "SyntaxError",
     "evalue": "incomplete input (274305985.py, line 20)",
     "output_type": "error",
     "traceback": [
      "\u001b[1;36m  Cell \u001b[1;32mIn[8], line 20\u001b[1;36m\u001b[0m\n\u001b[1;33m    print(model.predict(new_data)\u001b[0m\n\u001b[1;37m                                 ^\u001b[0m\n\u001b[1;31mSyntaxError\u001b[0m\u001b[1;31m:\u001b[0m incomplete input\n"
     ]
    }
   ],
   "source": [
    "import pandas as pd\n",
    "import numpy as nm\n",
    "from sklearn import linear_model\n",
    "import math\n",
    "from word2number import w2n\n",
    "\n",
    "df = pd.read_csv(\"CSV file/hiring.csv\")\n",
    "df['test_score(out of 10)'] = df['test_score(out of 10)'].fillna(df['test_score(out of 10)'].mean())\n",
    "df.experience= df.experience.fillna('Zero')\n",
    "\n",
    "# Converting Float(Actually series) into Int\n",
    "df['test_score(out of 10)']=df['test_score(out of 10)'].astype(int)\n",
    "df.experience = df.experience.apply(w2n.word_to_num)\n",
    "\n",
    "model = linear_model.LinearRegression()\n",
    "model.fit(df.drop('salary($)',axis='columns'),df['salary($)'])\n",
    "\n",
    "print(model.predict([[12,10,10]]))\n"
   ]
  },
  {
   "cell_type": "code",
   "execution_count": null,
   "id": "c3488a47-af98-439a-ac3b-4bd7536cf3f2",
   "metadata": {},
   "outputs": [],
   "source": []
  },
  {
   "cell_type": "code",
   "execution_count": null,
   "id": "3cad24f5-4dac-417c-9b54-3a21fdb11b39",
   "metadata": {},
   "outputs": [],
   "source": []
  }
 ],
 "metadata": {
  "kernelspec": {
   "display_name": "Python 3 (ipykernel)",
   "language": "python",
   "name": "python3"
  },
  "language_info": {
   "codemirror_mode": {
    "name": "ipython",
    "version": 3
   },
   "file_extension": ".py",
   "mimetype": "text/x-python",
   "name": "python",
   "nbconvert_exporter": "python",
   "pygments_lexer": "ipython3",
   "version": "3.12.4"
  }
 },
 "nbformat": 4,
 "nbformat_minor": 5
}
